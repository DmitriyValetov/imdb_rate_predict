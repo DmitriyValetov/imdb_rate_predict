{
 "cells": [
  {
   "cell_type": "code",
   "execution_count": 3,
   "metadata": {},
   "outputs": [],
   "source": [
    "from imblearn.over_sampling import RandomOverSampler\n",
    "from imblearn.under_sampling import RandomUnderSampler\n",
    "\n",
    "import pandas as pd"
   ]
  },
  {
   "cell_type": "markdown",
   "metadata": {},
   "source": [
    "# from orgs"
   ]
  },
  {
   "cell_type": "code",
   "execution_count": 4,
   "metadata": {},
   "outputs": [],
   "source": [
    "paths = [\n",
    "    'aclImdb_v1//test//neg',\n",
    "    'aclImdb_v1//test//pos',\n",
    "    'aclImdb_v1//train//neg',\n",
    "    'aclImdb_v1//train//pos',\n",
    "]"
   ]
  },
  {
   "cell_type": "code",
   "execution_count": 5,
   "metadata": {},
   "outputs": [],
   "source": [
    "import os\n",
    "import tqdm"
   ]
  },
  {
   "cell_type": "code",
   "execution_count": 6,
   "metadata": {},
   "outputs": [
    {
     "name": "stderr",
     "output_type": "stream",
     "text": [
      "100%|█████████████████████████████████████████████████████████████████████████████████████████████████████████████████| 12500/12500 [01:09<00:00, 179.41it/s]\n",
      "100%|█████████████████████████████████████████████████████████████████████████████████████████████████████████████████| 12500/12500 [01:09<00:00, 178.78it/s]\n",
      "100%|█████████████████████████████████████████████████████████████████████████████████████████████████████████████████| 12500/12500 [01:09<00:00, 180.98it/s]\n",
      "100%|█████████████████████████████████████████████████████████████████████████████████████████████████████████████████| 12500/12500 [01:14<00:00, 168.86it/s]\n"
     ]
    }
   ],
   "source": [
    "o_samples = []\n",
    "\n",
    "for path in paths:\n",
    "    files = os.listdir(path)\n",
    "    for file in tqdm.tqdm(files):\n",
    "        with open(file=os.path.join(path, file), mode='r', encoding='utf-8') as f:\n",
    "            text = f.read()\n",
    "        label = int(file.split('.')[0].split('_')[1])\n",
    "        o_samples.append([text, label-1])"
   ]
  },
  {
   "cell_type": "code",
   "execution_count": 7,
   "metadata": {},
   "outputs": [],
   "source": [
    "import seaborn as sns\n",
    "import matplotlib.pyplot as plt\n",
    "from collections import Counter"
   ]
  },
  {
   "cell_type": "code",
   "execution_count": 8,
   "metadata": {},
   "outputs": [
    {
     "name": "stdout",
     "output_type": "stream",
     "text": [
      "Counter({0: 10122, 9: 9731, 7: 5859, 3: 5331, 2: 4961, 6: 4803, 8: 4607, 1: 4586})\n"
     ]
    },
    {
     "data": {
      "image/png": "[encoded data removed]",
      "text/plain": [
       "<Figure size 432x288 with 1 Axes>"
      ]
     },
     "metadata": {
      "needs_background": "light"
     },
     "output_type": "display_data"
    }
   ],
   "source": [
    "print(Counter([s[1] for s in o_samples]))\n",
    "sns.distplot([s[1] for s in o_samples])\n",
    "plt.show()"
   ]
  },
  {
   "cell_type": "markdown",
   "metadata": {},
   "source": [
    "# Hedwig"
   ]
  },
  {
   "cell_type": "code",
   "execution_count": 9,
   "metadata": {},
   "outputs": [],
   "source": [
    "import csv\n",
    "import math"
   ]
  },
  {
   "cell_type": "code",
   "execution_count": 10,
   "metadata": {},
   "outputs": [
    {
     "name": "stderr",
     "output_type": "stream",
     "text": [
      "13432it [00:00, 30442.38it/s]\n",
      "13567it [00:00, 25913.71it/s]\n",
      "108670it [00:03, 31866.77it/s]\n"
     ]
    }
   ],
   "source": [
    "h_samples = []\n",
    "\n",
    "for file in os.listdir('hedwig-data//datasets//IMDB'):\n",
    "    with open(file=os.path.join('hedwig-data//datasets//IMDB', file), mode='r', encoding='utf-8') as f:\n",
    "        reader = csv.reader(f, delimiter=\"\\t\", quotechar=None)\n",
    "        for line in tqdm.tqdm(reader):\n",
    "            label = int(math.log10(int(line[0])))\n",
    "            text  = line[1]\n",
    "            h_samples.append([text, label])"
   ]
  },
  {
   "cell_type": "code",
   "execution_count": 11,
   "metadata": {},
   "outputs": [
    {
     "name": "stdout",
     "output_type": "stream",
     "text": [
      "Counter({2: 33848, 3: 23127, 0: 18665, 1: 17385, 4: 15200, 5: 9654, 6: 6255, 9: 4394, 7: 4144, 8: 2997})\n"
     ]
    },
    {
     "data": {
      "image/png": "[encoded data removed]",
      "text/plain": [
       "<Figure size 432x288 with 1 Axes>"
      ]
     },
     "metadata": {
      "needs_background": "light"
     },
     "output_type": "display_data"
    }
   ],
   "source": [
    "print(Counter([s[1] for s in h_samples]))\n",
    "sns.distplot([s[1] for s in h_samples])\n",
    "plt.show()"
   ]
  },
  {
   "cell_type": "markdown",
   "metadata": {},
   "source": [
    "# Scrap"
   ]
  },
  {
   "cell_type": "code",
   "execution_count": 12,
   "metadata": {},
   "outputs": [],
   "source": [
    "import json\n",
    "\n",
    "with open(file='imdb.json', mode='r', encoding='utf-8') as f:\n",
    "    data = json.load(f)"
   ]
  },
  {
   "cell_type": "code",
   "execution_count": 13,
   "metadata": {},
   "outputs": [],
   "source": [
    "s_samples = []\n",
    "for film in data:\n",
    "    for r, l in film['rated_reviews']:\n",
    "        s_samples.append([r, l])"
   ]
  },
  {
   "cell_type": "code",
   "execution_count": 14,
   "metadata": {},
   "outputs": [
    {
     "name": "stdout",
     "output_type": "stream",
     "text": [
      "Counter({10: 7691, 9: 3494, 8: 2469, 1: 1006, 7: 892, 6: 528, 5: 414, 4: 338, 3: 331, 2: 315})\n"
     ]
    },
    {
     "data": {
      "image/png": "[encoded data removed]",
      "text/plain": [
       "<Figure size 432x288 with 1 Axes>"
      ]
     },
     "metadata": {
      "needs_background": "light"
     },
     "output_type": "display_data"
    }
   ],
   "source": [
    "print(Counter([s[1] for s in s_samples]))\n",
    "sns.distplot([s[1] for s in s_samples])\n",
    "plt.show()"
   ]
  },
  {
   "cell_type": "markdown",
   "metadata": {},
   "source": [
    "# Sum"
   ]
  },
  {
   "cell_type": "code",
   "execution_count": 15,
   "metadata": {},
   "outputs": [
    {
     "name": "stdout",
     "output_type": "stream",
     "text": [
      "Counter({2: 39124, 3: 28789, 0: 28787, 1: 22977, 9: 17619, 4: 15538, 6: 11586, 7: 10895, 8: 10073, 5: 10068, 10: 7691})\n"
     ]
    },
    {
     "data": {
      "image/png": "[encoded data removed]",
      "text/plain": [
       "<Figure size 432x288 with 1 Axes>"
      ]
     },
     "metadata": {
      "needs_background": "light"
     },
     "output_type": "display_data"
    }
   ],
   "source": [
    "samples = o_samples + h_samples + s_samples\n",
    "print(Counter([s[1] for s in samples]))\n",
    "sns.distplot([s[1] for s in samples])\n",
    "plt.show()"
   ]
  },
  {
   "cell_type": "markdown",
   "metadata": {},
   "source": [
    "# Balancing & data save"
   ]
  },
  {
   "cell_type": "code",
   "execution_count": 16,
   "metadata": {},
   "outputs": [],
   "source": [
    "import random\n",
    "\n",
    "def make_csv(samples, file, balaning=True):\n",
    "    df = pd.DataFrame(data={'text': [s[0] for s in samples], 'label': [s[1] for s in samples]})\n",
    "    if balaning:\n",
    "        ros = RandomOverSampler()\n",
    "        texts, labels = ros.fit_resample(df[['text']], df.label)\n",
    "        df = texts.copy()\n",
    "        df['label'] = labels\n",
    "    df.to_csv(file)\n",
    "    print(df.shape)\n",
    "    \n",
    "random.shuffle(samples)"
   ]
  },
  {
   "cell_type": "code",
   "execution_count": 17,
   "metadata": {},
   "outputs": [
    {
     "name": "stdout",
     "output_type": "stream",
     "text": [
      "(50000, 2)\n",
      "(135669, 2)\n",
      "(17478, 2)\n",
      "(344256, 2)\n",
      "(86108, 2)\n",
      "(203147, 2)\n"
     ]
    }
   ],
   "source": [
    "train_samples = samples[:int(0.8*len(samples))]\n",
    "test_samples  = samples[int(0.8*len(samples)):]\n",
    "\n",
    "\n",
    "    \n",
    "make_csv(o_samples, \"aclImdb.csv\", balaning=False)\n",
    "make_csv(h_samples, \"hedwig.csv\", balaning=False)\n",
    "make_csv(s_samples, \"scrapped.csv\", balaning=False)\n",
    "\n",
    "make_csv(train_samples, \"train.csv\", balaning=True)\n",
    "make_csv(test_samples, \"test.csv\", balaning=True)\n",
    "make_csv(samples, 'full.csv', balaning=False)"
   ]
  }
 ],
 "metadata": {
  "kernelspec": {
   "display_name": "Python 3",
   "language": "python",
   "name": "python3"
  },
  "language_info": {
   "codemirror_mode": {
    "name": "ipython",
    "version": 3
   },
   "file_extension": ".py",
   "mimetype": "text/x-python",
   "name": "python",
   "nbconvert_exporter": "python",
   "pygments_lexer": "ipython3",
   "version": "3.7.5"
  }
 },
 "nbformat": 4,
 "nbformat_minor": 4
}
